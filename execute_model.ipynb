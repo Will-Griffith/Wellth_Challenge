{
 "cells": [
  {
   "cell_type": "code",
   "execution_count": 1,
   "metadata": {},
   "outputs": [
    {
     "name": "stderr",
     "output_type": "stream",
     "text": [
      "Using TensorFlow backend.\n"
     ]
    }
   ],
   "source": [
    "import tensorflow as tf\n",
    "import keras\n",
    "import pandas as pd\n",
    "import numpy as np\n",
    "import os\n",
    "from keras_retinanet.models import load_model\n",
    "from keras_retinanet.utils.eval import evaluate\n",
    "from keras_retinanet.preprocessing.csv_generator import CSVGenerator\n",
    "from keras_retinanet.utils.image import read_image_bgr, preprocess_image, resize_image\n"
   ]
  },
  {
   "cell_type": "code",
   "execution_count": 2,
   "metadata": {},
   "outputs": [
    {
     "name": "stderr",
     "output_type": "stream",
     "text": [
      "C:\\Users\\willg\\AppData\\Roaming\\Python\\Python36\\site-packages\\keras\\engine\\saving.py:292: UserWarning: No training configuration found in save file: the model was *not* compiled. Compile it manually.\n",
      "  warnings.warn('No training configuration found in save file: '\n"
     ]
    }
   ],
   "source": [
    "model = load_model('RetinaNet_mobilenet224.h5', backbone_name='mobilenet224_1.0')\n",
    "#error is safe, but can't train on this model.\n",
    "#issue here: https://github.com/fizyr/keras-retinanet/issues/207"
   ]
  },
  {
   "cell_type": "code",
   "execution_count": 3,
   "metadata": {},
   "outputs": [
    {
     "data": {
      "text/html": [
       "<div>\n",
       "<style scoped>\n",
       "    .dataframe tbody tr th:only-of-type {\n",
       "        vertical-align: middle;\n",
       "    }\n",
       "\n",
       "    .dataframe tbody tr th {\n",
       "        vertical-align: top;\n",
       "    }\n",
       "\n",
       "    .dataframe thead th {\n",
       "        text-align: right;\n",
       "    }\n",
       "</style>\n",
       "<table border=\"1\" class=\"dataframe\">\n",
       "  <thead>\n",
       "    <tr style=\"text-align: right;\">\n",
       "      <th></th>\n",
       "      <th>filename</th>\n",
       "      <th>width</th>\n",
       "      <th>height</th>\n",
       "    </tr>\n",
       "  </thead>\n",
       "  <tbody>\n",
       "    <tr>\n",
       "      <th>0</th>\n",
       "      <td>coins00000109.jpg</td>\n",
       "      <td>800</td>\n",
       "      <td>533</td>\n",
       "    </tr>\n",
       "    <tr>\n",
       "      <th>1</th>\n",
       "      <td>lunODHd9HhRTTj8jrK79WjYvIYgK5N2k_pill.jpg</td>\n",
       "      <td>500</td>\n",
       "      <td>500</td>\n",
       "    </tr>\n",
       "    <tr>\n",
       "      <th>2</th>\n",
       "      <td>bottlecaps00000271.jpg</td>\n",
       "      <td>898</td>\n",
       "      <td>1300</td>\n",
       "    </tr>\n",
       "    <tr>\n",
       "      <th>3</th>\n",
       "      <td>ml576nXYA1vvGg0FTl7Khy3hinY2xfOf_pill.jpg</td>\n",
       "      <td>1500</td>\n",
       "      <td>1500</td>\n",
       "    </tr>\n",
       "    <tr>\n",
       "      <th>4</th>\n",
       "      <td>lJ6t4CTHMogiFp0DvbtUYhDlHh3cAWLH_pill.jpg</td>\n",
       "      <td>1500</td>\n",
       "      <td>1500</td>\n",
       "    </tr>\n",
       "  </tbody>\n",
       "</table>\n",
       "</div>"
      ],
      "text/plain": [
       "                                    filename  width  height\n",
       "0                          coins00000109.jpg    800     533\n",
       "1  lunODHd9HhRTTj8jrK79WjYvIYgK5N2k_pill.jpg    500     500\n",
       "2                     bottlecaps00000271.jpg    898    1300\n",
       "3  ml576nXYA1vvGg0FTl7Khy3hinY2xfOf_pill.jpg   1500    1500\n",
       "4  lJ6t4CTHMogiFp0DvbtUYhDlHh3cAWLH_pill.jpg   1500    1500"
      ]
     },
     "execution_count": 3,
     "metadata": {},
     "output_type": "execute_result"
    }
   ],
   "source": [
    "validation = pd.read_csv('validation_files.csv')\n",
    "validation.head()"
   ]
  },
  {
   "cell_type": "code",
   "execution_count": 11,
   "metadata": {},
   "outputs": [],
   "source": [
    "#current working directory\n",
    "cwd = os.getcwd()\n",
    "\n",
    "results = []\n",
    "\n",
    "for idx, row in validation.iterrows():\n",
    "    image_path = cwd + '\\\\training_images\\\\' + row.filename\n",
    "    \n",
    "    image = read_image_bgr(image_path)\n",
    "    # preprocess image for network\n",
    "    image = preprocess_image(image)\n",
    "    image, scale = resize_image(image)\n",
    "\n",
    "    boxes, scores, labels = model.predict_on_batch(np.expand_dims(image, axis=0))\n",
    "\n",
    "    # correct for image scale\n",
    "    boxes /= scale\n",
    "\n",
    "    # each image has 300 detections, only adding the detections with strong scores\n",
    "    for box, score, label in zip(boxes[0], scores[0], labels[0]):\n",
    "        # scores are sorted so we can break\n",
    "        if score < 0.3:\n",
    "            break\n",
    "        p_row = [row.filename, row.width, row.height]\n",
    "        p_row.append(label)\n",
    "        p_row.extend(box)\n",
    "        results.append(p_row)"
   ]
  },
  {
   "cell_type": "code",
   "execution_count": 12,
   "metadata": {},
   "outputs": [],
   "source": [
    "#changing lists of lists to data frame with column names and saving as CSV\n",
    "df_results = pd.DataFrame(results , columns=['filename','width','height','class','xmin','ymin','xmax','ymax'])\n",
    "df_results.to_csv('results.csv', index = False, header = True)"
   ]
  },
  {
   "cell_type": "code",
   "execution_count": 7,
   "metadata": {},
   "outputs": [],
   "source": []
  }
 ],
 "metadata": {
  "kernelspec": {
   "display_name": "Python 3",
   "language": "python",
   "name": "python3"
  },
  "language_info": {
   "codemirror_mode": {
    "name": "ipython",
    "version": 3
   },
   "file_extension": ".py",
   "mimetype": "text/x-python",
   "name": "python",
   "nbconvert_exporter": "python",
   "pygments_lexer": "ipython3",
   "version": "3.6.7"
  }
 },
 "nbformat": 4,
 "nbformat_minor": 2
}
