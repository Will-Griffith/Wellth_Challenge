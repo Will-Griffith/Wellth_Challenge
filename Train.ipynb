{
 "cells": [
  {
   "cell_type": "code",
   "execution_count": 1,
   "metadata": {},
   "outputs": [
    {
     "name": "stderr",
     "output_type": "stream",
     "text": [
      "Using TensorFlow backend.\n"
     ]
    }
   ],
   "source": [
    "import pandas as pd\n",
    "pd.set_option('display.max_colwidth', 100)\n",
    "import matplotlib.pyplot as plt\n",
    "import seaborn as sns\n",
    "\n",
    "import os\n",
    "\n",
    "\n",
    "import tensorflow as tf\n",
    "import keras\n",
    "from keras_retinanet.models import mobilenet, convert_model\n",
    "from keras_retinanet import losses\n",
    "from keras_retinanet.utils.eval import evaluate\n",
    "from keras_retinanet.preprocessing.csv_generator import CSVGenerator"
   ]
  },
  {
   "cell_type": "code",
   "execution_count": 2,
   "metadata": {},
   "outputs": [],
   "source": [
    "#Debug script. This gave us good results. the debug script tells us that none of the obj are too small to be identified. Good anchors in FPN.\n",
    "#python C:\\Users\\willg\\AppData\\Local\\Programs\\Python\\Python36\\Lib\\site-packages\\keras-retinanet-master\\keras_retinanet\\bin\\debug.py --l --annotations csv C:\\Users\\willg\\Wellth_Challenge\\train.csv C:\\Users\\Willg\\blood\\classes.csv"
   ]
  },
  {
   "cell_type": "code",
   "execution_count": 3,
   "metadata": {},
   "outputs": [],
   "source": [
    "train_df = pd.read_csv('training_annotations.csv')"
   ]
  },
  {
   "cell_type": "code",
   "execution_count": 4,
   "metadata": {},
   "outputs": [
    {
     "data": {
      "text/html": [
       "<div>\n",
       "<style scoped>\n",
       "    .dataframe tbody tr th:only-of-type {\n",
       "        vertical-align: middle;\n",
       "    }\n",
       "\n",
       "    .dataframe tbody tr th {\n",
       "        vertical-align: top;\n",
       "    }\n",
       "\n",
       "    .dataframe thead th {\n",
       "        text-align: right;\n",
       "    }\n",
       "</style>\n",
       "<table border=\"1\" class=\"dataframe\">\n",
       "  <thead>\n",
       "    <tr style=\"text-align: right;\">\n",
       "      <th></th>\n",
       "      <th>filename</th>\n",
       "      <th>width</th>\n",
       "      <th>height</th>\n",
       "      <th>class</th>\n",
       "      <th>xmin</th>\n",
       "      <th>ymin</th>\n",
       "      <th>xmax</th>\n",
       "      <th>ymax</th>\n",
       "    </tr>\n",
       "  </thead>\n",
       "  <tbody>\n",
       "    <tr>\n",
       "      <th>0</th>\n",
       "      <td>coins00000109.jpg</td>\n",
       "      <td>800</td>\n",
       "      <td>533</td>\n",
       "      <td>other</td>\n",
       "      <td>158</td>\n",
       "      <td>192</td>\n",
       "      <td>305</td>\n",
       "      <td>328</td>\n",
       "    </tr>\n",
       "    <tr>\n",
       "      <th>1</th>\n",
       "      <td>lunODHd9HhRTTj8jrK79WjYvIYgK5N2k_pill.jpg</td>\n",
       "      <td>500</td>\n",
       "      <td>500</td>\n",
       "      <td>pill</td>\n",
       "      <td>78</td>\n",
       "      <td>42</td>\n",
       "      <td>144</td>\n",
       "      <td>208</td>\n",
       "    </tr>\n",
       "    <tr>\n",
       "      <th>2</th>\n",
       "      <td>bottlecaps00000271.jpg</td>\n",
       "      <td>898</td>\n",
       "      <td>1300</td>\n",
       "      <td>other</td>\n",
       "      <td>207</td>\n",
       "      <td>627</td>\n",
       "      <td>707</td>\n",
       "      <td>1074</td>\n",
       "    </tr>\n",
       "    <tr>\n",
       "      <th>3</th>\n",
       "      <td>ml576nXYA1vvGg0FTl7Khy3hinY2xfOf_pill.jpg</td>\n",
       "      <td>1500</td>\n",
       "      <td>1500</td>\n",
       "      <td>pill</td>\n",
       "      <td>446</td>\n",
       "      <td>863</td>\n",
       "      <td>663</td>\n",
       "      <td>1088</td>\n",
       "    </tr>\n",
       "    <tr>\n",
       "      <th>4</th>\n",
       "      <td>lJ6t4CTHMogiFp0DvbtUYhDlHh3cAWLH_pill.jpg</td>\n",
       "      <td>1500</td>\n",
       "      <td>1500</td>\n",
       "      <td>pill</td>\n",
       "      <td>516</td>\n",
       "      <td>567</td>\n",
       "      <td>682</td>\n",
       "      <td>901</td>\n",
       "    </tr>\n",
       "  </tbody>\n",
       "</table>\n",
       "</div>"
      ],
      "text/plain": [
       "                                    filename  width  height  class  xmin  \\\n",
       "0                          coins00000109.jpg    800     533  other   158   \n",
       "1  lunODHd9HhRTTj8jrK79WjYvIYgK5N2k_pill.jpg    500     500   pill    78   \n",
       "2                     bottlecaps00000271.jpg    898    1300  other   207   \n",
       "3  ml576nXYA1vvGg0FTl7Khy3hinY2xfOf_pill.jpg   1500    1500   pill   446   \n",
       "4  lJ6t4CTHMogiFp0DvbtUYhDlHh3cAWLH_pill.jpg   1500    1500   pill   516   \n",
       "\n",
       "   ymin  xmax  ymax  \n",
       "0   192   305   328  \n",
       "1    42   144   208  \n",
       "2   627   707  1074  \n",
       "3   863   663  1088  \n",
       "4   567   682   901  "
      ]
     },
     "execution_count": 4,
     "metadata": {},
     "output_type": "execute_result"
    }
   ],
   "source": [
    "train_df.head()"
   ]
  },
  {
   "cell_type": "code",
   "execution_count": 5,
   "metadata": {},
   "outputs": [
    {
     "data": {
      "text/html": [
       "<div>\n",
       "<style scoped>\n",
       "    .dataframe tbody tr th:only-of-type {\n",
       "        vertical-align: middle;\n",
       "    }\n",
       "\n",
       "    .dataframe tbody tr th {\n",
       "        vertical-align: top;\n",
       "    }\n",
       "\n",
       "    .dataframe thead th {\n",
       "        text-align: right;\n",
       "    }\n",
       "</style>\n",
       "<table border=\"1\" class=\"dataframe\">\n",
       "  <thead>\n",
       "    <tr style=\"text-align: right;\">\n",
       "      <th></th>\n",
       "      <th>filename</th>\n",
       "      <th>class</th>\n",
       "      <th>xmin</th>\n",
       "      <th>ymin</th>\n",
       "      <th>xmax</th>\n",
       "      <th>ymax</th>\n",
       "    </tr>\n",
       "  </thead>\n",
       "  <tbody>\n",
       "    <tr>\n",
       "      <th>0</th>\n",
       "      <td>coins00000109.jpg</td>\n",
       "      <td>other</td>\n",
       "      <td>158</td>\n",
       "      <td>192</td>\n",
       "      <td>305</td>\n",
       "      <td>328</td>\n",
       "    </tr>\n",
       "    <tr>\n",
       "      <th>1</th>\n",
       "      <td>lunODHd9HhRTTj8jrK79WjYvIYgK5N2k_pill.jpg</td>\n",
       "      <td>pill</td>\n",
       "      <td>78</td>\n",
       "      <td>42</td>\n",
       "      <td>144</td>\n",
       "      <td>208</td>\n",
       "    </tr>\n",
       "    <tr>\n",
       "      <th>2</th>\n",
       "      <td>bottlecaps00000271.jpg</td>\n",
       "      <td>other</td>\n",
       "      <td>207</td>\n",
       "      <td>627</td>\n",
       "      <td>707</td>\n",
       "      <td>1074</td>\n",
       "    </tr>\n",
       "    <tr>\n",
       "      <th>3</th>\n",
       "      <td>ml576nXYA1vvGg0FTl7Khy3hinY2xfOf_pill.jpg</td>\n",
       "      <td>pill</td>\n",
       "      <td>446</td>\n",
       "      <td>863</td>\n",
       "      <td>663</td>\n",
       "      <td>1088</td>\n",
       "    </tr>\n",
       "    <tr>\n",
       "      <th>4</th>\n",
       "      <td>lJ6t4CTHMogiFp0DvbtUYhDlHh3cAWLH_pill.jpg</td>\n",
       "      <td>pill</td>\n",
       "      <td>516</td>\n",
       "      <td>567</td>\n",
       "      <td>682</td>\n",
       "      <td>901</td>\n",
       "    </tr>\n",
       "  </tbody>\n",
       "</table>\n",
       "</div>"
      ],
      "text/plain": [
       "                                    filename  class  xmin  ymin  xmax  ymax\n",
       "0                          coins00000109.jpg  other   158   192   305   328\n",
       "1  lunODHd9HhRTTj8jrK79WjYvIYgK5N2k_pill.jpg   pill    78    42   144   208\n",
       "2                     bottlecaps00000271.jpg  other   207   627   707  1074\n",
       "3  ml576nXYA1vvGg0FTl7Khy3hinY2xfOf_pill.jpg   pill   446   863   663  1088\n",
       "4  lJ6t4CTHMogiFp0DvbtUYhDlHh3cAWLH_pill.jpg   pill   516   567   682   901"
      ]
     },
     "execution_count": 5,
     "metadata": {},
     "output_type": "execute_result"
    }
   ],
   "source": [
    "train = train_df.drop(['width', 'height'], axis=1)\n",
    "train.head()"
   ]
  },
  {
   "cell_type": "code",
   "execution_count": 6,
   "metadata": {},
   "outputs": [
    {
     "name": "stdout",
     "output_type": "stream",
     "text": [
      "107 filename    Nv2rSNtWire4EbjW2nyHfL4rkzaCbFuK_pill.jpg\n",
      "class                                            pill\n",
      "xmin                                              222\n",
      "ymin                                              408\n",
      "xmax                                              222\n",
      "ymax                                              408\n",
      "Name: 107, dtype: object\n",
      "107 filename    Nv2rSNtWire4EbjW2nyHfL4rkzaCbFuK_pill.jpg\n",
      "class                                            pill\n",
      "xmin                                              222\n",
      "ymin                                              408\n",
      "xmax                                              222\n",
      "ymax                                              408\n",
      "Name: 107, dtype: object\n",
      "718 filename    nvPPwU6RTJwCg04hGFbPABsm6iyLqL2h_pill.jpg\n",
      "class                                            pill\n",
      "xmin                                              297\n",
      "ymin                                              358\n",
      "xmax                                              297\n",
      "ymax                                              358\n",
      "Name: 718, dtype: object\n",
      "718 filename    nvPPwU6RTJwCg04hGFbPABsm6iyLqL2h_pill.jpg\n",
      "class                                            pill\n",
      "xmin                                              297\n",
      "ymin                                              358\n",
      "xmax                                              297\n",
      "ymax                                              358\n",
      "Name: 718, dtype: object\n",
      "1128 filename    lKBF3XdtdfQsO8vZQafXtvZCDcrAoUr2_pill.jpg\n",
      "class                                            pill\n",
      "xmin                                              212\n",
      "ymin                                               85\n",
      "xmax                                              212\n",
      "ymax                                               85\n",
      "Name: 1128, dtype: object\n",
      "1128 filename    lKBF3XdtdfQsO8vZQafXtvZCDcrAoUr2_pill.jpg\n",
      "class                                            pill\n",
      "xmin                                              212\n",
      "ymin                                               85\n",
      "xmax                                              212\n",
      "ymax                                               85\n",
      "Name: 1128, dtype: object\n"
     ]
    }
   ],
   "source": [
    "#Listing images with invalid annotations\n",
    "for index, row in train.iterrows():\n",
    "    if row['xmin'] >= row['xmax']:\n",
    "        print(index, row)\n",
    "    if row['ymin'] >= row['ymax']:\n",
    "        print(index, row)"
   ]
  },
  {
   "cell_type": "code",
   "execution_count": 7,
   "metadata": {
    "scrolled": false
   },
   "outputs": [],
   "source": [
    "#Adjusting column order for Retinanet\n",
    "train = train[['filename', 'xmin', 'ymin', 'xmax', 'ymax', 'class']]\n",
    "\n",
    "# dropping these training examples that have lines instead of boxes for annotations\n",
    "train.drop([107, 718, 1128], axis=0, inplace=True)\n",
    "\n",
    "#Adding training_images sub folder to file name\n",
    "cwd = os.getcwd()\n",
    "for idx, row in train.iterrows():\n",
    "    name = cwd + '\\\\training_images\\\\' + row.filename\n",
    "    train.at[idx, 'filename'] = name\n",
    " \n",
    "#roughly 80/20 split by num of objects\n",
    "train.reset_index(drop=True, inplace=True)\n",
    "test = train.iloc[1150:]\n",
    "train = train.iloc[:1150]\n",
    "    \n",
    "test.to_csv('test.csv', index = False, header = False)\n",
    "train.to_csv('train.csv', index = False, header = False)"
   ]
  },
  {
   "cell_type": "code",
   "execution_count": 8,
   "metadata": {
    "scrolled": true
   },
   "outputs": [
    {
     "data": {
      "text/plain": [
       "(1150, 6)"
      ]
     },
     "execution_count": 8,
     "metadata": {},
     "output_type": "execute_result"
    }
   ],
   "source": [
    "train.shape"
   ]
  },
  {
   "cell_type": "code",
   "execution_count": 9,
   "metadata": {},
   "outputs": [
    {
     "data": {
      "text/plain": [
       "(277, 6)"
      ]
     },
     "execution_count": 9,
     "metadata": {},
     "output_type": "execute_result"
    }
   ],
   "source": [
    "test.shape"
   ]
  },
  {
   "cell_type": "code",
   "execution_count": 10,
   "metadata": {
    "scrolled": false
   },
   "outputs": [
    {
     "data": {
      "text/html": [
       "<div>\n",
       "<style scoped>\n",
       "    .dataframe tbody tr th:only-of-type {\n",
       "        vertical-align: middle;\n",
       "    }\n",
       "\n",
       "    .dataframe tbody tr th {\n",
       "        vertical-align: top;\n",
       "    }\n",
       "\n",
       "    .dataframe thead th {\n",
       "        text-align: right;\n",
       "    }\n",
       "</style>\n",
       "<table border=\"1\" class=\"dataframe\">\n",
       "  <thead>\n",
       "    <tr style=\"text-align: right;\">\n",
       "      <th></th>\n",
       "      <th>filename</th>\n",
       "      <th>xmin</th>\n",
       "      <th>ymin</th>\n",
       "      <th>xmax</th>\n",
       "      <th>ymax</th>\n",
       "      <th>class</th>\n",
       "    </tr>\n",
       "  </thead>\n",
       "  <tbody>\n",
       "    <tr>\n",
       "      <th>1145</th>\n",
       "      <td>C:\\Users\\willg\\Wellth_Challenge\\training_images\\MWmFHG6bYgY8Lu9LqEUUUHiR8seLffUg_pill.jpg</td>\n",
       "      <td>271</td>\n",
       "      <td>404</td>\n",
       "      <td>339</td>\n",
       "      <td>454</td>\n",
       "      <td>pill</td>\n",
       "    </tr>\n",
       "    <tr>\n",
       "      <th>1146</th>\n",
       "      <td>C:\\Users\\willg\\Wellth_Challenge\\training_images\\bottlecaps00000252.jpg</td>\n",
       "      <td>224</td>\n",
       "      <td>87</td>\n",
       "      <td>292</td>\n",
       "      <td>110</td>\n",
       "      <td>other</td>\n",
       "    </tr>\n",
       "    <tr>\n",
       "      <th>1147</th>\n",
       "      <td>C:\\Users\\willg\\Wellth_Challenge\\training_images\\bottlecaps00000252.jpg</td>\n",
       "      <td>232</td>\n",
       "      <td>138</td>\n",
       "      <td>296</td>\n",
       "      <td>232</td>\n",
       "      <td>other</td>\n",
       "    </tr>\n",
       "    <tr>\n",
       "      <th>1148</th>\n",
       "      <td>C:\\Users\\willg\\Wellth_Challenge\\training_images\\bottlecaps00000252.jpg</td>\n",
       "      <td>148</td>\n",
       "      <td>186</td>\n",
       "      <td>211</td>\n",
       "      <td>247</td>\n",
       "      <td>other</td>\n",
       "    </tr>\n",
       "    <tr>\n",
       "      <th>1149</th>\n",
       "      <td>C:\\Users\\willg\\Wellth_Challenge\\training_images\\bottlecaps00000252.jpg</td>\n",
       "      <td>85</td>\n",
       "      <td>224</td>\n",
       "      <td>142</td>\n",
       "      <td>249</td>\n",
       "      <td>other</td>\n",
       "    </tr>\n",
       "  </tbody>\n",
       "</table>\n",
       "</div>"
      ],
      "text/plain": [
       "                                                                                       filename  \\\n",
       "1145  C:\\Users\\willg\\Wellth_Challenge\\training_images\\MWmFHG6bYgY8Lu9LqEUUUHiR8seLffUg_pill.jpg   \n",
       "1146                     C:\\Users\\willg\\Wellth_Challenge\\training_images\\bottlecaps00000252.jpg   \n",
       "1147                     C:\\Users\\willg\\Wellth_Challenge\\training_images\\bottlecaps00000252.jpg   \n",
       "1148                     C:\\Users\\willg\\Wellth_Challenge\\training_images\\bottlecaps00000252.jpg   \n",
       "1149                     C:\\Users\\willg\\Wellth_Challenge\\training_images\\bottlecaps00000252.jpg   \n",
       "\n",
       "      xmin  ymin  xmax  ymax  class  \n",
       "1145   271   404   339   454   pill  \n",
       "1146   224    87   292   110  other  \n",
       "1147   232   138   296   232  other  \n",
       "1148   148   186   211   247  other  \n",
       "1149    85   224   142   249  other  "
      ]
     },
     "execution_count": 10,
     "metadata": {},
     "output_type": "execute_result"
    }
   ],
   "source": [
    "train.tail()"
   ]
  },
  {
   "cell_type": "code",
   "execution_count": 11,
   "metadata": {},
   "outputs": [
    {
     "data": {
      "text/html": [
       "<div>\n",
       "<style scoped>\n",
       "    .dataframe tbody tr th:only-of-type {\n",
       "        vertical-align: middle;\n",
       "    }\n",
       "\n",
       "    .dataframe tbody tr th {\n",
       "        vertical-align: top;\n",
       "    }\n",
       "\n",
       "    .dataframe thead th {\n",
       "        text-align: right;\n",
       "    }\n",
       "</style>\n",
       "<table border=\"1\" class=\"dataframe\">\n",
       "  <thead>\n",
       "    <tr style=\"text-align: right;\">\n",
       "      <th></th>\n",
       "      <th>filename</th>\n",
       "      <th>xmin</th>\n",
       "      <th>ymin</th>\n",
       "      <th>xmax</th>\n",
       "      <th>ymax</th>\n",
       "      <th>class</th>\n",
       "    </tr>\n",
       "  </thead>\n",
       "  <tbody>\n",
       "    <tr>\n",
       "      <th>1150</th>\n",
       "      <td>C:\\Users\\willg\\Wellth_Challenge\\training_images\\coins00000129.jpg</td>\n",
       "      <td>338</td>\n",
       "      <td>418</td>\n",
       "      <td>617</td>\n",
       "      <td>596</td>\n",
       "      <td>other</td>\n",
       "    </tr>\n",
       "    <tr>\n",
       "      <th>1151</th>\n",
       "      <td>C:\\Users\\willg\\Wellth_Challenge\\training_images\\coins00000129.jpg</td>\n",
       "      <td>333</td>\n",
       "      <td>6</td>\n",
       "      <td>650</td>\n",
       "      <td>233</td>\n",
       "      <td>other</td>\n",
       "    </tr>\n",
       "    <tr>\n",
       "      <th>1152</th>\n",
       "      <td>C:\\Users\\willg\\Wellth_Challenge\\training_images\\M74AYBgX35QpocJZoH2nznbCy2u6siFd_pill.jpg</td>\n",
       "      <td>120</td>\n",
       "      <td>149</td>\n",
       "      <td>288</td>\n",
       "      <td>198</td>\n",
       "      <td>pill</td>\n",
       "    </tr>\n",
       "    <tr>\n",
       "      <th>1153</th>\n",
       "      <td>C:\\Users\\willg\\Wellth_Challenge\\training_images\\M74AYBgX35QpocJZoH2nznbCy2u6siFd_pill.jpg</td>\n",
       "      <td>219</td>\n",
       "      <td>105</td>\n",
       "      <td>443</td>\n",
       "      <td>173</td>\n",
       "      <td>pill</td>\n",
       "    </tr>\n",
       "    <tr>\n",
       "      <th>1154</th>\n",
       "      <td>C:\\Users\\willg\\Wellth_Challenge\\training_images\\MTSgDxKYwhOpLFnUrKeJ2YKurEcBr3aj_pill.jpg</td>\n",
       "      <td>204</td>\n",
       "      <td>258</td>\n",
       "      <td>368</td>\n",
       "      <td>349</td>\n",
       "      <td>pill</td>\n",
       "    </tr>\n",
       "  </tbody>\n",
       "</table>\n",
       "</div>"
      ],
      "text/plain": [
       "                                                                                       filename  \\\n",
       "1150                          C:\\Users\\willg\\Wellth_Challenge\\training_images\\coins00000129.jpg   \n",
       "1151                          C:\\Users\\willg\\Wellth_Challenge\\training_images\\coins00000129.jpg   \n",
       "1152  C:\\Users\\willg\\Wellth_Challenge\\training_images\\M74AYBgX35QpocJZoH2nznbCy2u6siFd_pill.jpg   \n",
       "1153  C:\\Users\\willg\\Wellth_Challenge\\training_images\\M74AYBgX35QpocJZoH2nznbCy2u6siFd_pill.jpg   \n",
       "1154  C:\\Users\\willg\\Wellth_Challenge\\training_images\\MTSgDxKYwhOpLFnUrKeJ2YKurEcBr3aj_pill.jpg   \n",
       "\n",
       "      xmin  ymin  xmax  ymax  class  \n",
       "1150   338   418   617   596  other  \n",
       "1151   333     6   650   233  other  \n",
       "1152   120   149   288   198   pill  \n",
       "1153   219   105   443   173   pill  \n",
       "1154   204   258   368   349   pill  "
      ]
     },
     "execution_count": 11,
     "metadata": {},
     "output_type": "execute_result"
    }
   ],
   "source": [
    "test.head()"
   ]
  },
  {
   "cell_type": "code",
   "execution_count": 12,
   "metadata": {},
   "outputs": [
    {
     "data": {
      "image/png": "[encoded data removed]",
      "text/plain": [
       "<Figure size 432x288 with 1 Axes>"
      ]
     },
     "metadata": {
      "needs_background": "light"
     },
     "output_type": "display_data"
    },
    {
     "name": "stdout",
     "output_type": "stream",
     "text": [
      "Class Counts:\n",
      "pill     1012\n",
      "other     138\n",
      "Name: class, dtype: int64\n",
      "\n",
      "Class Percent:\n",
      "88.0\n",
      "12.0\n"
     ]
    }
   ],
   "source": [
    "#plot\n",
    "plt.title('Data class balance')\n",
    "sns.countplot(x=\"class\", data=train, order=['other', 'pill'])\n",
    "plt.show()\n",
    "\n",
    "#stats\n",
    "class_count = train['class'].value_counts()\n",
    "print('Class Counts:')\n",
    "print(class_count)\n",
    "#Class percent\n",
    "print('\\nClass Percent:')\n",
    "for x in class_count:\n",
    "    print(round(x / train.shape[0], 5)*100)\n",
    "    "
   ]
  },
  {
   "cell_type": "code",
   "execution_count": 13,
   "metadata": {},
   "outputs": [
    {
     "name": "stdout",
     "output_type": "stream",
     "text": [
      "444 101\n"
     ]
    }
   ],
   "source": [
    "train_gen = CSVGenerator(csv_data_file = 'train.csv', csv_class_file = 'classes.csv')\n",
    "test_gen = CSVGenerator(csv_data_file = 'test.csv', csv_class_file = 'classes.csv')\n",
    "\n",
    "print(train_gen.size(), test_gen.size())"
   ]
  },
  {
   "cell_type": "code",
   "execution_count": 14,
   "metadata": {},
   "outputs": [],
   "source": [
    "num_epochs = 3\n",
    "steps_per_epoch = 545\n",
    "lr = 1e-5\n",
    "\n",
    "model = mobilenet.MobileNetBackbone('mobilenet224_1.0').retinanet(num_classes=2)\n",
    "#download weights\n",
    "#weights_path = mobilenet.MobileNetBackbone('mobilenet224_1.0').download_imagenet()\n",
    "weights_path = r'C:\\Users\\willg\\.keras\\models\\mobilenet_1_0_224_tf_no_top.h5'\n",
    "model.load_weights(weights_path, by_name=True, skip_mismatch=True)"
   ]
  },
  {
   "cell_type": "code",
   "execution_count": 15,
   "metadata": {},
   "outputs": [],
   "source": [
    "model.compile(\n",
    "    loss={\n",
    "        'regression'    : losses.smooth_l1(),\n",
    "        'classification': losses.focal()\n",
    "    },\n",
    "    optimizer=keras.optimizers.adam(lr=lr, clipnorm=0.001)\n",
    ")\n"
   ]
  },
  {
   "cell_type": "code",
   "execution_count": 16,
   "metadata": {},
   "outputs": [
    {
     "name": "stdout",
     "output_type": "stream",
     "text": [
      "Epoch 1/3\n",
      "1150/1150 [==============================] - 168s 146ms/step - loss: 3.5178 - regression_loss: 2.6295 - classification_loss: 0.8883 - val_loss: 3.7192 - val_regression_loss: 2.5398 - val_classification_loss: 1.1794\n",
      "Epoch 2/3\n",
      "1150/1150 [==============================] - 143s 124ms/step - loss: 2.7523 - regression_loss: 2.0677 - classification_loss: 0.6846 - val_loss: 3.3630 - val_regression_loss: 2.2089 - val_classification_loss: 1.1541\n",
      "Epoch 3/3\n",
      "1150/1150 [==============================] - 143s 124ms/step - loss: 2.1882 - regression_loss: 1.6031 - classification_loss: 0.5851 - val_loss: 3.1893 - val_regression_loss: 2.1339 - val_classification_loss: 1.0554\n"
     ]
    }
   ],
   "source": [
    "result = model.fit_generator(\n",
    "            train_gen,\n",
    "            steps_per_epoch = 1150,\n",
    "            epochs=num_epochs,\n",
    "            verbose = 1,\n",
    "            class_weight= {0:0.88, 1:0.12},\n",
    "            validation_data = test_gen,\n",
    "            validation_steps=270\n",
    ")"
   ]
  },
  {
   "cell_type": "code",
   "execution_count": 17,
   "metadata": {},
   "outputs": [
    {
     "data": {
      "image/png": "[encoded data removed]",
      "text/plain": [
       "<Figure size 1440x360 with 3 Axes>"
      ]
     },
     "metadata": {
      "needs_background": "light"
     },
     "output_type": "display_data"
    }
   ],
   "source": [
    "plt.figure(figsize=(20, 5))\n",
    "plt.subplot(1, 3, 1)\n",
    "plt.title('Loss:')\n",
    "plt.plot(result.history['loss'],'r')\n",
    "plt.plot(result.history['val_loss'],'g')\n",
    "\n",
    "plt.subplot(1, 3, 2)\n",
    "plt.title('Regression Loss:')\n",
    "plt.plot(result.history['regression_loss'],'r')\n",
    "plt.plot(result.history['val_regression_loss'],'g')\n",
    "\n",
    "plt.subplot(1, 3, 3)\n",
    "plt.title('Classification Loss:')\n",
    "plt.plot(result.history['classification_loss'],'r')\n",
    "plt.plot(result.history['val_classification_loss'],'g')\n",
    "plt.legend(['train','validation'])\n",
    "\n",
    "plt.show()"
   ]
  },
  {
   "cell_type": "code",
   "execution_count": 18,
   "metadata": {},
   "outputs": [
    {
     "name": "stderr",
     "output_type": "stream",
     "text": [
      "Running network: 100% (444 of 444) |#####| Elapsed Time: 0:00:35 Time:  0:00:35\n",
      "Parsing annotations: 100% (444 of 444) |#| Elapsed Time: 0:00:00 Time:  0:00:00\n"
     ]
    },
    {
     "data": {
      "text/plain": [
       "{0: (0.004573815293162111, 138.0), 1: (0.3808006291915541, 1012.0)}"
      ]
     },
     "execution_count": 18,
     "metadata": {},
     "output_type": "execute_result"
    }
   ],
   "source": [
    "model = convert_model(model)\n",
    "evaluate(train_gen, model)"
   ]
  },
  {
   "cell_type": "markdown",
   "metadata": {},
   "source": [
    "This Cell computes our average precision for each class. The background class \"other\" has no recognizable patterns so it scores really low 0.4%, and our pill class scores 38% average precision."
   ]
  },
  {
   "cell_type": "code",
   "execution_count": 19,
   "metadata": {},
   "outputs": [],
   "source": [
    "#model.save('RetinaNet_mobilenet224.h5')"
   ]
  },
  {
   "cell_type": "code",
   "execution_count": null,
   "metadata": {},
   "outputs": [],
   "source": []
  }
 ],
 "metadata": {
  "kernelspec": {
   "display_name": "Python 3",
   "language": "python",
   "name": "python3"
  },
  "language_info": {
   "codemirror_mode": {
    "name": "ipython",
    "version": 3
   },
   "file_extension": ".py",
   "mimetype": "text/x-python",
   "name": "python",
   "nbconvert_exporter": "python",
   "pygments_lexer": "ipython3",
   "version": "3.6.7"
  }
 },
 "nbformat": 4,
 "nbformat_minor": 2
}
